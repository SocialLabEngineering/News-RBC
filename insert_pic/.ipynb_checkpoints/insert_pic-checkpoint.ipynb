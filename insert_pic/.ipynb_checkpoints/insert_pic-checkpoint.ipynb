{
 "cells": [
  {
   "cell_type": "code",
   "execution_count": 17,
   "metadata": {
    "collapsed": false
   },
   "outputs": [
    {
     "name": "stdout",
     "output_type": "stream",
     "text": [
      "Ахметшин_Альберт_Амирович.jpg\n",
      "Газпром.jpg\n",
      "Аблаев_Рустам_Борганитдинович.jpg\n",
      "found!\n",
      "Бурибаевский_ГОК.jpg\n",
      "БашМедь.jpg\n",
      "БашЛесПром.jpg\n",
      "Аблязов_Ирфан_Шакиржанович.jpg\n"
     ]
    }
   ],
   "source": [
    "# import libraries\n",
    "import os\n",
    "from bs4 import BeautifulSoup\n",
    "\n",
    "# open svg file without pictures\n",
    "# in open() insert path to svg file\n",
    "with open('Курултай.svg', 'r') as f:\n",
    "    doc = f.read()\n",
    "soup = BeautifulSoup(doc, 'lxml')\n",
    "for g in soup.findAll('g'):\n",
    "    children = g.children\n",
    "    for child in children:\n",
    "        if child.name == 'text':\n",
    "            name = g.find('text').text\n",
    "            # path to folder with pictures\n",
    "            path_to_folder = ''\n",
    "            # create name of picture\n",
    "            jpg_name = path_to_folder + '_'.join(name.split()) + '.jpg'\n",
    "            # check if there is picture with this name\n",
    "            print(jpg_name)\n",
    "            if os.path.isfile(jpg_name):\n",
    "                print('found!')\n",
    "                rect = g.rect\n",
    "                attrs = rect.attrs\n",
    "                attrs.pop('fill', None)\n",
    "                attrs['xlink:href'] = jpg_name\n",
    "                image = soup.new_tag('image')\n",
    "                image.attrs = attrs\n",
    "                rect.replace_with(image)\n",
    "# save new svg file with pictures\n",
    "# if open() can be any name of new file\n",
    "invalid_tags = ['html', 'body']\n",
    "for tag in invalid_tags: \n",
    "    for match in soup.findAll(tag):\n",
    "        match.replaceWithChildren()\n",
    "with open('output.svg', 'w') as f:\n",
    "    f.write(str(soup))"
   ]
  },
  {
   "cell_type": "code",
   "execution_count": null,
   "metadata": {
    "collapsed": true
   },
   "outputs": [],
   "source": []
  }
 ],
 "metadata": {
  "kernelspec": {
   "display_name": "Python 3",
   "language": "python",
   "name": "python3"
  },
  "language_info": {
   "codemirror_mode": {
    "name": "ipython",
    "version": 3
   },
   "file_extension": ".py",
   "mimetype": "text/x-python",
   "name": "python",
   "nbconvert_exporter": "python",
   "pygments_lexer": "ipython3",
   "version": "3.5.1+"
  }
 },
 "nbformat": 4,
 "nbformat_minor": 0
}
